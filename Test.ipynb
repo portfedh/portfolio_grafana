{
 "cells": [
  {
   "cell_type": "code",
   "execution_count": 1,
   "metadata": {},
   "outputs": [],
   "source": [
    "import os\n",
    "import sys"
   ]
  },
  {
   "cell_type": "code",
   "execution_count": 2,
   "metadata": {},
   "outputs": [],
   "source": [
    "# Name of user files\n",
    "# user = sys.argv[1]\n",
    "# print('Username: ', sys.argv[1])\n",
    "user = 'user1'"
   ]
  },
  {
   "cell_type": "code",
   "execution_count": 3,
   "metadata": {},
   "outputs": [
    {
     "name": "stdout",
     "output_type": "stream",
     "text": [
      "user_dir:  ./inputs/user1/\n"
     ]
    }
   ],
   "source": [
    "# User filepath\n",
    "user_dir = ('./inputs/' + user + '/')\n",
    "print('user_dir: ', user_dir)\n"
   ]
  },
  {
   "cell_type": "code",
   "execution_count": 11,
   "metadata": {},
   "outputs": [
    {
     "name": "stdout",
     "output_type": "stream",
     "text": [
      "./inputs/user1//monthly_account_balance_user1_account1.csv\n",
      "./inputs/user1//monthly_account_balance_user1_account2.csv\n",
      "A-Ok\n"
     ]
    }
   ],
   "source": [
    "# Check that Monthly balance files have the same ending date\n",
    "import pandas as pd\n",
    "\n",
    "list = []\n",
    "for file in os.listdir(user_dir):\n",
    "    if file.startswith('monthly_account_balance'):\n",
    "        print(user_dir + '/' + file)\n",
    "        df = pd.read_csv(user_dir + '/' + file)\n",
    "        list.append(df)\n",
    "\n",
    "date_list = []\n",
    "for df in list:\n",
    "    a = df.iloc[-1][0]\n",
    "    date_list.append(a)\n",
    "\n",
    "if len(set(date_list)) <= 1:\n",
    "    print('A-Ok')"
   ]
  }
 ],
 "metadata": {
  "kernelspec": {
   "display_name": "Python 3.9.13 ('venv': venv)",
   "language": "python",
   "name": "python3"
  },
  "language_info": {
   "codemirror_mode": {
    "name": "ipython",
    "version": 3
   },
   "file_extension": ".py",
   "mimetype": "text/x-python",
   "name": "python",
   "nbconvert_exporter": "python",
   "pygments_lexer": "ipython3",
   "version": "3.9.13"
  },
  "orig_nbformat": 4,
  "vscode": {
   "interpreter": {
    "hash": "33e90602a5a5ee97ef63ae642fd5a98f74a004b561d5bf4fc81d3fb54f32da13"
   }
  }
 },
 "nbformat": 4,
 "nbformat_minor": 2
}
