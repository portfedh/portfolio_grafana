{
 "cells": [
  {
   "cell_type": "markdown",
   "metadata": {},
   "source": [
    "Test for create_daily_share_quantity()\n",
    "######################################\n",
    "\n",
    "Notes:\n",
    "[x] - create_share_quantity_df() produces a df with 'Date' label in index column. -> Ok\n",
    "[x] - create_daily_share_quantity() removes 'Date' label in index. -> Add\n",
    "[x] - create_daily_share_quantity() dates are in ascending order (last day first)  -> Make descending\n",
    "[x] - create_daily_share_quantity() shares are object dtypes  -> Make Integers\n",
    "[] - Review if its worth changing the date column so its not the index\n",
    "[] Function requires create_share_quantity_df(). Rename -> create_empty_share_quantity_df()\n"
   ]
  },
  {
   "cell_type": "code",
   "execution_count": 1,
   "metadata": {},
   "outputs": [],
   "source": [
    "import unittest\n",
    "import pandas as pd\n",
    "from pandas import Timestamp\n",
    "from scripts import daily_shares as ds\n"
   ]
  },
  {
   "cell_type": "code",
   "execution_count": 2,
   "metadata": {},
   "outputs": [],
   "source": [
    "# Setup\n",
    "date_range1 = pd.date_range(start=\"2022-12-01\", end=\"2022-12-06\")\n",
    "dates1 = [\n",
    "    Timestamp('2022-12-01 00:00:00'),\n",
    "    Timestamp('2022-12-03 00:00:00'),\n",
    "    Timestamp('2022-12-05 00:00:00'),\n",
    "    ]\n",
    "df1 = pd.DataFrame({\n",
    "    'Ticker': ['VOO', 'VOO', 'VOO'],\n",
    "    'Yfinance_Ticker': ['VOO.MX', 'VOO.MX', 'VOO.MX'],\n",
    "    'Trade': ['Buy', 'Buy', 'Sell'],\n",
    "    'Shares': [10, 5, -3],\n",
    "    }, index=dates1)\n",
    "df1 = df1.rename_axis('Date', axis=1)\n",
    "yftickers = list(df1['Yfinance_Ticker'].unique())\n",
    "df2 = ds.create_share_quantity_df(yftickers)\n"
   ]
  },
  {
   "cell_type": "code",
   "execution_count": 3,
   "metadata": {},
   "outputs": [
    {
     "data": {
      "text/html": [
       "<div>\n",
       "<style scoped>\n",
       "    .dataframe tbody tr th:only-of-type {\n",
       "        vertical-align: middle;\n",
       "    }\n",
       "\n",
       "    .dataframe tbody tr th {\n",
       "        vertical-align: top;\n",
       "    }\n",
       "\n",
       "    .dataframe thead th {\n",
       "        text-align: right;\n",
       "    }\n",
       "</style>\n",
       "<table border=\"1\" class=\"dataframe\">\n",
       "  <thead>\n",
       "    <tr style=\"text-align: right;\">\n",
       "      <th>Date</th>\n",
       "      <th>Ticker</th>\n",
       "      <th>Yfinance_Ticker</th>\n",
       "      <th>Trade</th>\n",
       "      <th>Shares</th>\n",
       "    </tr>\n",
       "  </thead>\n",
       "  <tbody>\n",
       "    <tr>\n",
       "      <th>2022-12-01</th>\n",
       "      <td>VOO</td>\n",
       "      <td>VOO.MX</td>\n",
       "      <td>Buy</td>\n",
       "      <td>10</td>\n",
       "    </tr>\n",
       "    <tr>\n",
       "      <th>2022-12-03</th>\n",
       "      <td>VOO</td>\n",
       "      <td>VOO.MX</td>\n",
       "      <td>Buy</td>\n",
       "      <td>5</td>\n",
       "    </tr>\n",
       "    <tr>\n",
       "      <th>2022-12-05</th>\n",
       "      <td>VOO</td>\n",
       "      <td>VOO.MX</td>\n",
       "      <td>Sell</td>\n",
       "      <td>-3</td>\n",
       "    </tr>\n",
       "  </tbody>\n",
       "</table>\n",
       "</div>"
      ],
      "text/plain": [
       "Date       Ticker Yfinance_Ticker Trade  Shares\n",
       "2022-12-01    VOO          VOO.MX   Buy      10\n",
       "2022-12-03    VOO          VOO.MX   Buy       5\n",
       "2022-12-05    VOO          VOO.MX  Sell      -3"
      ]
     },
     "execution_count": 3,
     "metadata": {},
     "output_type": "execute_result"
    }
   ],
   "source": [
    "df1"
   ]
  },
  {
   "cell_type": "code",
   "execution_count": 4,
   "metadata": {},
   "outputs": [
    {
     "data": {
      "text/html": [
       "<div>\n",
       "<style scoped>\n",
       "    .dataframe tbody tr th:only-of-type {\n",
       "        vertical-align: middle;\n",
       "    }\n",
       "\n",
       "    .dataframe tbody tr th {\n",
       "        vertical-align: top;\n",
       "    }\n",
       "\n",
       "    .dataframe thead th {\n",
       "        text-align: right;\n",
       "    }\n",
       "</style>\n",
       "<table border=\"1\" class=\"dataframe\">\n",
       "  <thead>\n",
       "    <tr style=\"text-align: right;\">\n",
       "      <th>Date</th>\n",
       "      <th>VOO.MX</th>\n",
       "    </tr>\n",
       "  </thead>\n",
       "  <tbody>\n",
       "  </tbody>\n",
       "</table>\n",
       "</div>"
      ],
      "text/plain": [
       "Empty DataFrame\n",
       "Columns: [VOO.MX]\n",
       "Index: []"
      ]
     },
     "execution_count": 4,
     "metadata": {},
     "output_type": "execute_result"
    }
   ],
   "source": [
    "df2"
   ]
  },
  {
   "cell_type": "code",
   "execution_count": 11,
   "metadata": {},
   "outputs": [
    {
     "data": {
      "text/html": [
       "<div>\n",
       "<style scoped>\n",
       "    .dataframe tbody tr th:only-of-type {\n",
       "        vertical-align: middle;\n",
       "    }\n",
       "\n",
       "    .dataframe tbody tr th {\n",
       "        vertical-align: top;\n",
       "    }\n",
       "\n",
       "    .dataframe thead th {\n",
       "        text-align: right;\n",
       "    }\n",
       "</style>\n",
       "<table border=\"1\" class=\"dataframe\">\n",
       "  <thead>\n",
       "    <tr style=\"text-align: right;\">\n",
       "      <th>Date</th>\n",
       "      <th>VOO.MX</th>\n",
       "    </tr>\n",
       "  </thead>\n",
       "  <tbody>\n",
       "    <tr>\n",
       "      <th>2022-12-01</th>\n",
       "      <td>10</td>\n",
       "    </tr>\n",
       "    <tr>\n",
       "      <th>2022-12-02</th>\n",
       "      <td>10</td>\n",
       "    </tr>\n",
       "    <tr>\n",
       "      <th>2022-12-03</th>\n",
       "      <td>15</td>\n",
       "    </tr>\n",
       "    <tr>\n",
       "      <th>2022-12-04</th>\n",
       "      <td>15</td>\n",
       "    </tr>\n",
       "    <tr>\n",
       "      <th>2022-12-05</th>\n",
       "      <td>12</td>\n",
       "    </tr>\n",
       "    <tr>\n",
       "      <th>2022-12-06</th>\n",
       "      <td>12</td>\n",
       "    </tr>\n",
       "  </tbody>\n",
       "</table>\n",
       "</div>"
      ],
      "text/plain": [
       "Date        VOO.MX\n",
       "2022-12-01      10\n",
       "2022-12-02      10\n",
       "2022-12-03      15\n",
       "2022-12-04      15\n",
       "2022-12-05      12\n",
       "2022-12-06      12"
      ]
     },
     "execution_count": 11,
     "metadata": {},
     "output_type": "execute_result"
    }
   ],
   "source": [
    "# Expected\n",
    "dates_expected2 = pd.date_range('2022-12-01', periods=6)\n",
    "expected = pd.DataFrame({\n",
    "    'VOO.MX': [10, 10, 15, 15, 12, 12],\n",
    "    }, index=dates_expected2)\n",
    "expected = expected.rename_axis('Date', axis=1)\n",
    "expected\n",
    "#print(expected.dtypes)"
   ]
  },
  {
   "cell_type": "code",
   "execution_count": null,
   "metadata": {},
   "outputs": [],
   "source": [
    "from datetime import datetime\n",
    "\n",
    "def create_daily_share_quantity(date_range: datetime, trade_history: 'pd', ticker_list: list, df: 'pd') -> 'pd':\n",
    "    # For loop: Go through every date:\n",
    "    for date in date_range:\n",
    "        # Temporary list\n",
    "        values = []\n",
    "        # For loop: Go through every ticker:\n",
    "        for ticker in ticker_list:\n",
    "            # Filter dataframe by ticker\n",
    "            filter_df = (\n",
    "                trade_history[trade_history['Yfinance_Ticker'] == ticker])\n",
    "            # Filter dataframe up to date\n",
    "            day_filter_df = filter_df.loc[:date]\n",
    "            # Sum shares in dataframe for that ticker\n",
    "            total_shares = day_filter_df['Shares'].sum()\n",
    "            # Append product to the temporary list\n",
    "            values.append(total_shares)\n",
    "        # Create dictionary with tickers and share values for given date\n",
    "        new_row = dict(zip(ticker_list, values))\n",
    "        # Create dataframe from dictionary\n",
    "        new_row_df = pd.DataFrame(new_row, index=[date])\n",
    "        new_row_df = new_row_df.rename_axis('Date', axis=1)                    # --------------------> Nueva linea\n",
    "        #new_row_df = new_row_df.convert_dtypes()\n",
    "        # Merge new row with dataframe from create_share_quantity_df()\n",
    "        df = pd.concat([new_row_df, df])\n",
    "    df.sort_index(ascending=True, inplace=True)                     # --------------------> Nueva linea\n",
    "    df = df.astype(int)\n",
    "   \n",
    "    return df"
   ]
  },
  {
   "cell_type": "code",
   "execution_count": 12,
   "metadata": {},
   "outputs": [
    {
     "data": {
      "text/html": [
       "<div>\n",
       "<style scoped>\n",
       "    .dataframe tbody tr th:only-of-type {\n",
       "        vertical-align: middle;\n",
       "    }\n",
       "\n",
       "    .dataframe tbody tr th {\n",
       "        vertical-align: top;\n",
       "    }\n",
       "\n",
       "    .dataframe thead th {\n",
       "        text-align: right;\n",
       "    }\n",
       "</style>\n",
       "<table border=\"1\" class=\"dataframe\">\n",
       "  <thead>\n",
       "    <tr style=\"text-align: right;\">\n",
       "      <th>Date</th>\n",
       "      <th>VOO.MX</th>\n",
       "    </tr>\n",
       "  </thead>\n",
       "  <tbody>\n",
       "    <tr>\n",
       "      <th>2022-12-01</th>\n",
       "      <td>10</td>\n",
       "    </tr>\n",
       "    <tr>\n",
       "      <th>2022-12-02</th>\n",
       "      <td>10</td>\n",
       "    </tr>\n",
       "    <tr>\n",
       "      <th>2022-12-03</th>\n",
       "      <td>15</td>\n",
       "    </tr>\n",
       "    <tr>\n",
       "      <th>2022-12-04</th>\n",
       "      <td>15</td>\n",
       "    </tr>\n",
       "    <tr>\n",
       "      <th>2022-12-05</th>\n",
       "      <td>12</td>\n",
       "    </tr>\n",
       "    <tr>\n",
       "      <th>2022-12-06</th>\n",
       "      <td>12</td>\n",
       "    </tr>\n",
       "  </tbody>\n",
       "</table>\n",
       "</div>"
      ],
      "text/plain": [
       "Date        VOO.MX\n",
       "2022-12-01      10\n",
       "2022-12-02      10\n",
       "2022-12-03      15\n",
       "2022-12-04      15\n",
       "2022-12-05      12\n",
       "2022-12-06      12"
      ]
     },
     "execution_count": 12,
     "metadata": {},
     "output_type": "execute_result"
    }
   ],
   "source": [
    "\n",
    "# Call function (de arriba, no importada, poner ds.create_daily_share_quantity para la otra)\n",
    "actual = ds.create_daily_share_quantity(\n",
    "    date_range=date_range1,\n",
    "    trade_history=df1,\n",
    "    ticker_list=yftickers,\n",
    "    df=df2)\n",
    "actual\n",
    "#print(actual.dtypes)"
   ]
  },
  {
   "cell_type": "code",
   "execution_count": 14,
   "metadata": {},
   "outputs": [],
   "source": [
    "pd.testing.assert_frame_equal(actual, expected, check_freq=False)"
   ]
  }
 ],
 "metadata": {
  "kernelspec": {
   "display_name": "Python 3.8.10 ('venv_linux': venv)",
   "language": "python",
   "name": "python3"
  },
  "language_info": {
   "codemirror_mode": {
    "name": "ipython",
    "version": 3
   },
   "file_extension": ".py",
   "mimetype": "text/x-python",
   "name": "python",
   "nbconvert_exporter": "python",
   "pygments_lexer": "ipython3",
   "version": "3.8.10"
  },
  "orig_nbformat": 4,
  "vscode": {
   "interpreter": {
    "hash": "38c9757d0eed3ac9390ae5994be43195212207f4127f3c5c31364378e0059a93"
   }
  }
 },
 "nbformat": 4,
 "nbformat_minor": 2
}
